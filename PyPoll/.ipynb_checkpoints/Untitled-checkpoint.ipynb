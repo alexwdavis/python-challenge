{
 "cells": [
  {
   "cell_type": "code",
   "execution_count": 71,
   "metadata": {},
   "outputs": [
    {
     "name": "stdout",
     "output_type": "stream",
     "text": [
      "Election Results\n",
      "-------------------------\n",
      "Total Votes: 3521001\n",
      "-------------------------\n",
      "Khan: 63.000%(2218231)\n",
      "Correy: 20.000%(704200)\n",
      "Li: 14.000%(492940)\n",
      "O'Tooley: 3.000%(105630)\n",
      "-------------------------\n",
      "Winner: Khan\n",
      "-------------------------\n"
     ]
    }
   ],
   "source": [
    "import pandas as pd\n",
    "from pathlib import Path\n",
    "\n",
    "poll_data = pd.read_csv(\"Resources/02-Homework_03-Python_Instructions_PyPoll_Resources_election_data.csv\", encoding=\"ISO-8859-1\", delimiter=\",\")\n",
    "poll_data_count = poll_data['Voter ID']\n",
    "voter_count =len(poll_data_count.value_counts())\n",
    "#Khan\n",
    "print_voter_count = \"Total Votes: \" + str(voter_count) \n",
    "only_khan = poll_data.loc[poll_data[\"Candidate\"] == \"Khan\", :]\n",
    "khan_total = len(only_khan)\n",
    "khan_percentage = \"{0:.3f}%\".format((khan_total / voter_count) * 100)\n",
    "print_khan = \"Khan: \" + str(khan_percentage) + \"(\"+ str(khan_total)+ \")\"\n",
    "#Correy\n",
    "only_correy = poll_data.loc[poll_data[\"Candidate\"] == \"Correy\", :]\n",
    "correy_total = len(only_correy)\n",
    "correy_percentage = \"{0:.3f}%\".format((correy_total / voter_count) * 100)\n",
    "print_correy = \"Correy: \" + str(correy_percentage) + \"(\"+ str(correy_total)+ \")\"\n",
    "#Li\n",
    "only_li = poll_data.loc[poll_data[\"Candidate\"] == \"Li\", :]\n",
    "li_total = len(only_li)\n",
    "li_percentage = \"{0:.3f}%\".format((li_total / voter_count) * 100)\n",
    "print_li = \"Li: \" + str(li_percentage) + \"(\"+ str(li_total)+ \")\"\n",
    "#O'Tooley\n",
    "only_otooley = poll_data.loc[poll_data[\"Candidate\"] == \"O'Tooley\", :]\n",
    "otooley_total = len(only_otooley)\n",
    "otooley_percentage = \"{0:.3f}%\".format((otooley_total / voter_count) * 100)\n",
    "print_otooley = \"O'Tooley: \" + str(otooley_percentage) + \"(\"+ str(otooley_total)+ \")\"\n",
    "#Winner\n",
    "candidates = [\"Khan\", \"Correy\", \"Li\",\"O'Tooley\"]\n",
    "votes = [khan_total, correy_total, li_total, otooley_total]\n",
    "\n",
    "dict_candidates_and_votes = dict(zip(candidates,votes))\n",
    "key = max(dict_candidates_and_votes, key=dict_candidates_and_votes.get)\n",
    "print_winner = \"Winner: \" + (key)\n",
    "\n",
    "print(\"Election Results\")\n",
    "print(\"-------------------------\")\n",
    "print(print_voter_count) \n",
    "print(\"-------------------------\")\n",
    "print(print_khan) \n",
    "print(print_correy)\n",
    "print(print_li)\n",
    "print(print_otooley)\n",
    "print(\"-------------------------\")\n",
    "print(print_winner)\n",
    "print(\"-------------------------\")\n",
    "\n",
    "total_file = (\"Election Results.txt\")\n",
    "\n",
    "with open(total_file,\"w\",) as file:\n",
    "\n",
    "    file.write(\"Election Results\")\n",
    "    file.write(\"\\n\")\n",
    "    file.write(\"-------------------------\")\n",
    "    file.write(\"\\n\")\n",
    "    file.write(print_voter_count) \n",
    "    file.write(\"\\n\")\n",
    "    file.write(\"-------------------------\")\n",
    "    file.write(\"\\n\")\n",
    "    file.write(print_khan)\n",
    "    file.write(\"\\n\")\n",
    "    file.write(print_correy)\n",
    "    file.write(\"\\n\")\n",
    "    file.write(print_li)\n",
    "    file.write(\"\\n\")\n",
    "    file.write(print_otooley)\n",
    "    file.write(\"\\n\")\n",
    "    file.write(\"-------------------------\")\n",
    "    file.write(\"\\n\")\n",
    "    file.write(print_winner)\n",
    "    file.write(\"\\n\")\n",
    "    file.write(\"-------------------------\")"
   ]
  },
  {
   "cell_type": "code",
   "execution_count": null,
   "metadata": {},
   "outputs": [],
   "source": []
  },
  {
   "cell_type": "code",
   "execution_count": null,
   "metadata": {},
   "outputs": [],
   "source": []
  }
 ],
 "metadata": {
  "kernelspec": {
   "display_name": "Python 3",
   "language": "python",
   "name": "python3"
  },
  "language_info": {
   "codemirror_mode": {
    "name": "ipython",
    "version": 3
   },
   "file_extension": ".py",
   "mimetype": "text/x-python",
   "name": "python",
   "nbconvert_exporter": "python",
   "pygments_lexer": "ipython3",
   "version": "3.6.5"
  }
 },
 "nbformat": 4,
 "nbformat_minor": 2
}
