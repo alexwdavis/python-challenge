{
 "cells": [
  {
   "cell_type": "code",
   "execution_count": 22,
   "metadata": {},
   "outputs": [
    {
     "ename": "TypeError",
     "evalue": "'RangeIndex' object is not callable",
     "output_type": "error",
     "traceback": [
      "\u001b[0;31m---------------------------------------------------------------------------\u001b[0m",
      "\u001b[0;31mTypeError\u001b[0m                                 Traceback (most recent call last)",
      "\u001b[0;32m<ipython-input-22-02fdd6fcb1b8>\u001b[0m in \u001b[0;36m<module>\u001b[0;34m()\u001b[0m\n\u001b[1;32m     21\u001b[0m \u001b[0;34m\u001b[0m\u001b[0m\n\u001b[1;32m     22\u001b[0m \u001b[0;34m\u001b[0m\u001b[0m\n\u001b[0;32m---> 23\u001b[0;31m \u001b[0mmax_increase_month\u001b[0m \u001b[0;34m=\u001b[0m \u001b[0mbudget_column_difference\u001b[0m\u001b[0;34m.\u001b[0m\u001b[0mindex\u001b[0m\u001b[0;34m(\u001b[0m\u001b[0mmax\u001b[0m\u001b[0;34m(\u001b[0m\u001b[0mbudget_column_difference\u001b[0m\u001b[0;34m.\u001b[0m\u001b[0mshift\u001b[0m\u001b[0;34m(\u001b[0m\u001b[0;36m1\u001b[0m\u001b[0;34m)\u001b[0m\u001b[0;34m)\u001b[0m\u001b[0;34m)\u001b[0m\u001b[0;34m\u001b[0m\u001b[0m\n\u001b[0m\u001b[1;32m     24\u001b[0m \u001b[0mmax_decrease_month\u001b[0m \u001b[0;34m=\u001b[0m \u001b[0mbudget_column_difference\u001b[0m\u001b[0;34m.\u001b[0m\u001b[0mindex\u001b[0m\u001b[0;34m(\u001b[0m\u001b[0mmin\u001b[0m\u001b[0;34m(\u001b[0m\u001b[0mbudget_column_difference\u001b[0m\u001b[0;34m.\u001b[0m\u001b[0mshift\u001b[0m\u001b[0;34m(\u001b[0m\u001b[0;36m1\u001b[0m\u001b[0;34m)\u001b[0m\u001b[0;34m)\u001b[0m\u001b[0;34m)\u001b[0m\u001b[0;34m\u001b[0m\u001b[0m\n\u001b[1;32m     25\u001b[0m \u001b[0;34m\u001b[0m\u001b[0m\n",
      "\u001b[0;31mTypeError\u001b[0m: 'RangeIndex' object is not callable"
     ]
    }
   ],
   "source": [
    "import pandas as pd\n",
    "\n",
    "budget_data = pd.read_csv(\"Resources/02-Homework_03-Python_Instructions_PyBank_Resources_budget_data.csv\", encoding=\"ISO-8859-1\", delimiter=\",\")\n",
    "month_count = len(budget_data[\"Date\"].value_counts())\n",
    "month_count_print = \"Total Months: \" + str(month_count)\n",
    "net_total = budget_data[\"Profit/Losses\"].sum()\n",
    "net_total_print = \"Total: \" + \"$\" + str(net_total)\n",
    "average_change = budget_data[\"Profit/Losses\"].mean()\n",
    "budget_column = budget_data[\"Profit/Losses\"]\n",
    "\n",
    "\n",
    "budget_column_shifted_column = budget_column.shift(1)\n",
    "budget_column_difference = budget_column - budget_column_shifted_column\n",
    "\n",
    "\n",
    "average = budget_column_difference.mean()\n",
    "maximum = budget_column_difference.max()\n",
    "minimum = budget_column_difference.min()        \n",
    "#maximum_month =\n",
    "#minimum_month = \n",
    "\n",
    "\n",
    "max_increase_month = budget_column_difference.index(max(budget_column_difference.shift))\n",
    "max_decrease_month = budget_column_difference.index(min(budget_column_difference))\n",
    "\n",
    "average_change_print = \"Average Change: \" + \"$\" + str(average)\n",
    "greatest_increase_print = \"Greatest Increase in Profits: \" + \"$\" + {total_months[max_increase_month]} + str(maximum)\n",
    "greatest_decrease_print = \"Greatest Decrease in Profits: \" + \"$\" + {total_months[max_decrease_month]} + str(minimum)\n",
    "\n",
    "print (\"                  \")\n",
    "print (\"Financial Analysis\")\n",
    "print (month_count_print)\n",
    "print (net_total_print)\n",
    "print (average_change_print)\n",
    "print (greatest_increase_print)\n",
    "print (greatest_decrease_print)"
   ]
  },
  {
   "cell_type": "code",
   "execution_count": null,
   "metadata": {},
   "outputs": [],
   "source": []
  },
  {
   "cell_type": "code",
   "execution_count": null,
   "metadata": {},
   "outputs": [],
   "source": []
  }
 ],
 "metadata": {
  "kernelspec": {
   "display_name": "Python 3",
   "language": "python",
   "name": "python3"
  },
  "language_info": {
   "codemirror_mode": {
    "name": "ipython",
    "version": 3
   },
   "file_extension": ".py",
   "mimetype": "text/x-python",
   "name": "python",
   "nbconvert_exporter": "python",
   "pygments_lexer": "ipython3",
   "version": "3.6.5"
  }
 },
 "nbformat": 4,
 "nbformat_minor": 2
}
