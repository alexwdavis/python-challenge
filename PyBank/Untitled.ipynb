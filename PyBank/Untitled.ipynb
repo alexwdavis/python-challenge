{
 "cells": [
  {
   "cell_type": "code",
   "execution_count": 1,
   "metadata": {},
   "outputs": [
    {
     "name": "stdout",
     "output_type": "stream",
     "text": [
      "                  \n",
      "Financial Analysis\n",
      "Total Months: 86\n",
      "Total: $38382578\n",
      "Average Change: $-2315.1176470588234\n",
      "Greatest Increase in Profits: $1926159.0\n",
      "Greatest Decrease in Profits: $-2196167.0\n"
     ]
    },
    {
     "ename": "AttributeError",
     "evalue": "'str' object has no attribute 'to_csv'",
     "output_type": "error",
     "traceback": [
      "\u001b[0;31m---------------------------------------------------------------------------\u001b[0m",
      "\u001b[0;31mAttributeError\u001b[0m                            Traceback (most recent call last)",
      "\u001b[0;32m<ipython-input-1-2d9ca938d77d>\u001b[0m in \u001b[0;36m<module>\u001b[0;34m()\u001b[0m\n\u001b[1;32m     33\u001b[0m \u001b[0mprint\u001b[0m \u001b[0;34m(\u001b[0m\u001b[0mgreatest_decrease_print\u001b[0m\u001b[0;34m)\u001b[0m\u001b[0;34m\u001b[0m\u001b[0m\n\u001b[1;32m     34\u001b[0m \u001b[0;34m\u001b[0m\u001b[0m\n\u001b[0;32m---> 35\u001b[0;31m \u001b[0mtotal_file\u001b[0m\u001b[0;34m.\u001b[0m\u001b[0mto_csv\u001b[0m\u001b[0;34m(\u001b[0m\u001b[0;34m\"Financial_Analysis.csv\"\u001b[0m\u001b[0;34m,\u001b[0m \u001b[0mindex\u001b[0m\u001b[0;34m=\u001b[0m\u001b[0;32mFalse\u001b[0m\u001b[0;34m)\u001b[0m\u001b[0;34m\u001b[0m\u001b[0m\n\u001b[0m",
      "\u001b[0;31mAttributeError\u001b[0m: 'str' object has no attribute 'to_csv'"
     ]
    }
   ],
   "source": [
    "import pandas as pd\n",
    "\n",
    "budget_data = pd.read_csv(\"Resources/02-Homework_03-Python_Instructions_PyBank_Resources_budget_data.csv\", encoding=\"ISO-8859-1\", delimiter=\",\")\n",
    "month_count = len(budget_data[\"Date\"].value_counts())\n",
    "month_count_print = \"Total Months: \" + str(month_count)\n",
    "net_total = budget_data[\"Profit/Losses\"].sum()\n",
    "net_total_print = \"Total: \" + \"$\" + str(net_total)\n",
    "average_change = budget_data[\"Profit/Losses\"].mean()\n",
    "budget_column = budget_data[\"Profit/Losses\"]\n",
    "\n",
    "budget_column_shifted_column = budget_column.shift(1)\n",
    "budget_column_difference = budget_column - budget_column_shifted_column\n",
    "\n",
    "\n",
    "average = budget_column_difference.mean()\n",
    "maximum = budget_column_difference.max()\n",
    "minimum = budget_column_difference.min()        \n",
    "\n",
    "#max_increase_month = budget_column_difference.index(max(budget_column_difference)) + 1\n",
    "#max_decrease_month = budget_column_difference.index(min(budget_column_difference)) + 1\n",
    "\n",
    "average_change_print = \"Average Change: \" + \"$\" + str(average)\n",
    "greatest_increase_print = \"Greatest Increase in Profits: \" + \"$\" + str(maximum)\n",
    "greatest_decrease_print = \"Greatest Decrease in Profits: \" + \"$\" + str(minimum)\n",
    "total_file = (\"                  \") + (\"Financial Analysis\") + str(month_count_print) + str(net_total_print) + str(average_change_print) + str(greatest_increase_print) + str(greatest_decrease_print)\n",
    "\n",
    "print (\"                  \")\n",
    "print (\"Financial Analysis\")\n",
    "print (month_count_print)\n",
    "print (net_total_print)\n",
    "print (average_change_print)\n",
    "print (greatest_increase_print)\n",
    "print (greatest_decrease_print)\n",
    "\n",
    "total_file.to_csv(\"Financial_Analysis.csv\", index=False)"
   ]
  },
  {
   "cell_type": "code",
   "execution_count": null,
   "metadata": {},
   "outputs": [],
   "source": []
  },
  {
   "cell_type": "code",
   "execution_count": null,
   "metadata": {},
   "outputs": [],
   "source": []
  }
 ],
 "metadata": {
  "kernelspec": {
   "display_name": "Python 3",
   "language": "python",
   "name": "python3"
  },
  "language_info": {
   "codemirror_mode": {
    "name": "ipython",
    "version": 3
   },
   "file_extension": ".py",
   "mimetype": "text/x-python",
   "name": "python",
   "nbconvert_exporter": "python",
   "pygments_lexer": "ipython3",
   "version": "3.6.5"
  }
 },
 "nbformat": 4,
 "nbformat_minor": 2
}
