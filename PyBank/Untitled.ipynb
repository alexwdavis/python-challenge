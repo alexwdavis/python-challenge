{
 "cells": [
  {
   "cell_type": "code",
   "execution_count": 16,
   "metadata": {},
   "outputs": [
    {
     "name": "stdout",
     "output_type": "stream",
     "text": [
      "                  \n",
      "Financial Analysis\n",
      "----------------------------\n",
      "Total Months: 86\n",
      "Total: $38382578\n",
      "Average Change: $-2315.1176470588234\n",
      "Greatest Increase in Profits: $1926159.0\n",
      "Greatest Decrease in Profits: $-2196167.0\n"
     ]
    }
   ],
   "source": [
    "import pandas as pd\n",
    "\n",
    "budget_data = pd.read_csv(\"Resources/02-Homework_03-Python_Instructions_PyBank_Resources_budget_data.csv\", encoding=\"ISO-8859-1\", delimiter=\",\")\n",
    "month_count = len(budget_data[\"Date\"].value_counts())\n",
    "month_count_print = \"Total Months: \" + str(month_count)\n",
    "net_total = budget_data[\"Profit/Losses\"].sum()\n",
    "net_total_print = \"Total: \" + \"$\" + str(net_total)\n",
    "average_change = budget_data[\"Profit/Losses\"].mean()\n",
    "budget_column = budget_data[\"Profit/Losses\"]\n",
    "\n",
    "#for i in budget_column:\n",
    "#    if i == 2:\n",
    "budget_column_shifted_column = budget_column.shift(1)\n",
    "budget_column_difference = budget_column - budget_column_shifted_column\n",
    "#budget_column_difference = budget_column_difference.abs()\n",
    "average = budget_column_difference.mean()\n",
    "maximum = budget_column_difference.max()\n",
    "minimum = budget_column_difference.min()        \n",
    "\n",
    "average_change_print = \"Average Change: \" + \"$\" + str(average)\n",
    "greatest_increase_print = \"Greatest Increase in Profits: \" + \"$\" + str(maximum)\n",
    "greatest_decrease_print = \"Greatest Decrease in Profits: \" + \"$\" + str(minimum)\n",
    "#for budget in budget_column:\n",
    "#    if budget == \"!\":\n",
    "#       budget_difference = (budget[2]) + (budget[3])\n",
    "#        budget.next()\n",
    "#        continue\n",
    "\n",
    "#def budget_column(square):\n",
    "#    output = []\n",
    "#    for i in budget_column(2, 86):\n",
    "#        total = 0\n",
    "\n",
    "#        for row in square:\n",
    "#            total += row[i]\n",
    "\n",
    "#        output.append(total)\n",
    "#    return output\n",
    "\n",
    "print (\"                  \")\n",
    "print (\"Financial Analysis\")\n",
    "print (\"----------------------------\")\n",
    "print (month_count_print)\n",
    "print (net_total_print)\n",
    "print (average_change_print)\n",
    "print (greatest_increase_print)\n",
    "print (greatest_decrease_print)"
   ]
  },
  {
   "cell_type": "code",
   "execution_count": null,
   "metadata": {},
   "outputs": [],
   "source": []
  }
 ],
 "metadata": {
  "kernelspec": {
   "display_name": "Python 3",
   "language": "python",
   "name": "python3"
  },
  "language_info": {
   "codemirror_mode": {
    "name": "ipython",
    "version": 3
   },
   "file_extension": ".py",
   "mimetype": "text/x-python",
   "name": "python",
   "nbconvert_exporter": "python",
   "pygments_lexer": "ipython3",
   "version": "3.6.5"
  }
 },
 "nbformat": 4,
 "nbformat_minor": 2
}
